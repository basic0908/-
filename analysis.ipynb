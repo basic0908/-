{
 "cells": [
  {
   "cell_type": "code",
   "execution_count": 1,
   "metadata": {},
   "outputs": [],
   "source": [
    "import pandas as pd\n",
    "import seaborn as sns\n",
    "\n",
    "from sklearn.linear_model import LinearRegression"
   ]
  },
  {
   "cell_type": "markdown",
   "metadata": {},
   "source": [
    "### 仮定： オリンピックで国が獲得するメダル数を予想する"
   ]
  },
  {
   "cell_type": "markdown",
   "metadata": {},
   "source": [
    "### データ"
   ]
  },
  {
   "cell_type": "code",
   "execution_count": 2,
   "metadata": {},
   "outputs": [],
   "source": [
    "teams = pd.read_csv('teams.csv')\n",
    "print(teams.shape)\n",
    "teams = teams[['team', 'country', 'year', 'athletes', 'age', 'prev_medals', 'medals']]\n"
   ]
  },
  {
   "cell_type": "code",
   "execution_count": 3,
   "metadata": {},
   "outputs": [
    {
     "data": {
      "text/html": [
       "<div>\n",
       "<style scoped>\n",
       "    .dataframe tbody tr th:only-of-type {\n",
       "        vertical-align: middle;\n",
       "    }\n",
       "\n",
       "    .dataframe tbody tr th {\n",
       "        vertical-align: top;\n",
       "    }\n",
       "\n",
       "    .dataframe thead th {\n",
       "        text-align: right;\n",
       "    }\n",
       "</style>\n",
       "<table border=\"1\" class=\"dataframe\">\n",
       "  <thead>\n",
       "    <tr style=\"text-align: right;\">\n",
       "      <th></th>\n",
       "      <th>team</th>\n",
       "      <th>country</th>\n",
       "      <th>year</th>\n",
       "      <th>athletes</th>\n",
       "      <th>age</th>\n",
       "      <th>prev_medals</th>\n",
       "      <th>medals</th>\n",
       "    </tr>\n",
       "  </thead>\n",
       "  <tbody>\n",
       "    <tr>\n",
       "      <th>0</th>\n",
       "      <td>AFG</td>\n",
       "      <td>Afghanistan</td>\n",
       "      <td>1964</td>\n",
       "      <td>8</td>\n",
       "      <td>22.0</td>\n",
       "      <td>0.0</td>\n",
       "      <td>0</td>\n",
       "    </tr>\n",
       "    <tr>\n",
       "      <th>1</th>\n",
       "      <td>AFG</td>\n",
       "      <td>Afghanistan</td>\n",
       "      <td>1968</td>\n",
       "      <td>5</td>\n",
       "      <td>23.2</td>\n",
       "      <td>0.0</td>\n",
       "      <td>0</td>\n",
       "    </tr>\n",
       "    <tr>\n",
       "      <th>2</th>\n",
       "      <td>AFG</td>\n",
       "      <td>Afghanistan</td>\n",
       "      <td>1972</td>\n",
       "      <td>8</td>\n",
       "      <td>29.0</td>\n",
       "      <td>0.0</td>\n",
       "      <td>0</td>\n",
       "    </tr>\n",
       "    <tr>\n",
       "      <th>3</th>\n",
       "      <td>AFG</td>\n",
       "      <td>Afghanistan</td>\n",
       "      <td>1980</td>\n",
       "      <td>11</td>\n",
       "      <td>23.6</td>\n",
       "      <td>0.0</td>\n",
       "      <td>0</td>\n",
       "    </tr>\n",
       "    <tr>\n",
       "      <th>4</th>\n",
       "      <td>AFG</td>\n",
       "      <td>Afghanistan</td>\n",
       "      <td>2004</td>\n",
       "      <td>5</td>\n",
       "      <td>18.6</td>\n",
       "      <td>0.0</td>\n",
       "      <td>0</td>\n",
       "    </tr>\n",
       "  </tbody>\n",
       "</table>\n",
       "</div>"
      ],
      "text/plain": [
       "  team      country  year  athletes   age  prev_medals  medals\n",
       "0  AFG  Afghanistan  1964         8  22.0          0.0       0\n",
       "1  AFG  Afghanistan  1968         5  23.2          0.0       0\n",
       "2  AFG  Afghanistan  1972         8  29.0          0.0       0\n",
       "3  AFG  Afghanistan  1980        11  23.6          0.0       0\n",
       "4  AFG  Afghanistan  2004         5  18.6          0.0       0"
      ]
     },
     "execution_count": 3,
     "metadata": {},
     "output_type": "execute_result"
    }
   ],
   "source": [
    "teams.head(5)"
   ]
  },
  {
   "cell_type": "code",
   "execution_count": 4,
   "metadata": {},
   "outputs": [
    {
     "data": {
      "text/plain": [
       "<bound method IndexOpsMixin.value_counts of 0       1964\n",
       "1       1968\n",
       "2       1972\n",
       "3       1980\n",
       "4       2004\n",
       "        ... \n",
       "2139    2000\n",
       "2140    2004\n",
       "2141    2008\n",
       "2142    2012\n",
       "2143    2016\n",
       "Name: year, Length: 2144, dtype: int64>"
      ]
     },
     "execution_count": 4,
     "metadata": {},
     "output_type": "execute_result"
    }
   ],
   "source": [
    "teams['year'].value_counts"
   ]
  },
  {
   "cell_type": "code",
   "execution_count": 104,
   "metadata": {},
   "outputs": [
    {
     "data": {
      "text/plain": [
       "Index(['team', 'country', 'year', 'athletes', 'age', 'prev_medals', 'medals'], dtype='object')"
      ]
     },
     "execution_count": 104,
     "metadata": {},
     "output_type": "execute_result"
    }
   ],
   "source": [
    "teams.columns"
   ]
  },
  {
   "cell_type": "code",
   "execution_count": 105,
   "metadata": {},
   "outputs": [
    {
     "data": {
      "text/plain": [
       "<AxesSubplot:xlabel='country'>"
      ]
     },
     "execution_count": 105,
     "metadata": {},
     "output_type": "execute_result"
    },
    {
     "data": {
      "image/png": "[encoded data removed]",
      "text/plain": [
       "<Figure size 432x288 with 1 Axes>"
      ]
     },
     "metadata": {
      "needs_background": "light"
     },
     "output_type": "display_data"
    }
   ],
   "source": [
    "average_by_country = teams.groupby(teams['country'])['medals'].mean()\n",
    "average_by_country[73:103].plot(kind='bar')\n"
   ]
  },
  {
   "cell_type": "code",
   "execution_count": 106,
   "metadata": {},
   "outputs": [
    {
     "data": {
      "text/plain": [
       "year          -0.021603\n",
       "athletes       0.840817\n",
       "age            0.025096\n",
       "prev_medals    0.920048\n",
       "medals         1.000000\n",
       "Name: medals, dtype: float64"
      ]
     },
     "execution_count": 106,
     "metadata": {},
     "output_type": "execute_result"
    }
   ],
   "source": [
    "teams.corr()['medals']"
   ]
  },
  {
   "cell_type": "code",
   "execution_count": 107,
   "metadata": {},
   "outputs": [
    {
     "data": {
      "text/plain": [
       "<seaborn.axisgrid.FacetGrid at 0x27355b0f9a0>"
      ]
     },
     "execution_count": 107,
     "metadata": {},
     "output_type": "execute_result"
    },
    {
     "data": {
      "image/png": "[encoded data removed]",
      "text/plain": [
       "<Figure size 360x360 with 1 Axes>"
      ]
     },
     "metadata": {
      "needs_background": "light"
     },
     "output_type": "display_data"
    }
   ],
   "source": [
    "sns.lmplot(x='athletes', y='medals', data=teams, fit_reg=True, ci=None)"
   ]
  },
  {
   "cell_type": "code",
   "execution_count": 108,
   "metadata": {},
   "outputs": [
    {
     "data": {
      "text/plain": [
       "<seaborn.axisgrid.FacetGrid at 0x273564c9160>"
      ]
     },
     "execution_count": 108,
     "metadata": {},
     "output_type": "execute_result"
    },
    {
     "data": {
      "image/png": "[encoded data removed]",
      "text/plain": [
       "<Figure size 360x360 with 1 Axes>"
      ]
     },
     "metadata": {
      "needs_background": "light"
     },
     "output_type": "display_data"
    }
   ],
   "source": [
    "sns.lmplot(x='prev_medals', y='medals', data=teams, fit_reg=True, ci=None)"
   ]
  },
  {
   "attachments": {},
   "cell_type": "markdown",
   "metadata": {},
   "source": [
    "### データクリーニング"
   ]
  },
  {
   "cell_type": "code",
   "execution_count": 109,
   "metadata": {},
   "outputs": [
    {
     "data": {
      "text/html": [
       "<div>\n",
       "<style scoped>\n",
       "    .dataframe tbody tr th:only-of-type {\n",
       "        vertical-align: middle;\n",
       "    }\n",
       "\n",
       "    .dataframe tbody tr th {\n",
       "        vertical-align: top;\n",
       "    }\n",
       "\n",
       "    .dataframe thead th {\n",
       "        text-align: right;\n",
       "    }\n",
       "</style>\n",
       "<table border=\"1\" class=\"dataframe\">\n",
       "  <thead>\n",
       "    <tr style=\"text-align: right;\">\n",
       "      <th></th>\n",
       "      <th>team</th>\n",
       "      <th>country</th>\n",
       "      <th>year</th>\n",
       "      <th>athletes</th>\n",
       "      <th>age</th>\n",
       "      <th>prev_medals</th>\n",
       "      <th>medals</th>\n",
       "    </tr>\n",
       "  </thead>\n",
       "  <tbody>\n",
       "    <tr>\n",
       "      <th>19</th>\n",
       "      <td>ALB</td>\n",
       "      <td>Albania</td>\n",
       "      <td>1992</td>\n",
       "      <td>9</td>\n",
       "      <td>25.3</td>\n",
       "      <td>NaN</td>\n",
       "      <td>0</td>\n",
       "    </tr>\n",
       "    <tr>\n",
       "      <th>26</th>\n",
       "      <td>ALG</td>\n",
       "      <td>Algeria</td>\n",
       "      <td>1964</td>\n",
       "      <td>7</td>\n",
       "      <td>26.0</td>\n",
       "      <td>NaN</td>\n",
       "      <td>0</td>\n",
       "    </tr>\n",
       "    <tr>\n",
       "      <th>39</th>\n",
       "      <td>AND</td>\n",
       "      <td>Andorra</td>\n",
       "      <td>1976</td>\n",
       "      <td>3</td>\n",
       "      <td>28.3</td>\n",
       "      <td>NaN</td>\n",
       "      <td>0</td>\n",
       "    </tr>\n",
       "    <tr>\n",
       "      <th>50</th>\n",
       "      <td>ANG</td>\n",
       "      <td>Angola</td>\n",
       "      <td>1980</td>\n",
       "      <td>17</td>\n",
       "      <td>17.4</td>\n",
       "      <td>NaN</td>\n",
       "      <td>0</td>\n",
       "    </tr>\n",
       "    <tr>\n",
       "      <th>59</th>\n",
       "      <td>ANT</td>\n",
       "      <td>Antigua and Barbuda</td>\n",
       "      <td>1976</td>\n",
       "      <td>17</td>\n",
       "      <td>23.2</td>\n",
       "      <td>NaN</td>\n",
       "      <td>0</td>\n",
       "    </tr>\n",
       "    <tr>\n",
       "      <th>...</th>\n",
       "      <td>...</td>\n",
       "      <td>...</td>\n",
       "      <td>...</td>\n",
       "      <td>...</td>\n",
       "      <td>...</td>\n",
       "      <td>...</td>\n",
       "      <td>...</td>\n",
       "    </tr>\n",
       "    <tr>\n",
       "      <th>2092</th>\n",
       "      <td>VIN</td>\n",
       "      <td>Saint Vincent and the Grenadines</td>\n",
       "      <td>1988</td>\n",
       "      <td>6</td>\n",
       "      <td>20.5</td>\n",
       "      <td>NaN</td>\n",
       "      <td>0</td>\n",
       "    </tr>\n",
       "    <tr>\n",
       "      <th>2103</th>\n",
       "      <td>YAR</td>\n",
       "      <td>North Yemen</td>\n",
       "      <td>1984</td>\n",
       "      <td>3</td>\n",
       "      <td>27.7</td>\n",
       "      <td>NaN</td>\n",
       "      <td>0</td>\n",
       "    </tr>\n",
       "    <tr>\n",
       "      <th>2105</th>\n",
       "      <td>YEM</td>\n",
       "      <td>Yemen</td>\n",
       "      <td>1992</td>\n",
       "      <td>8</td>\n",
       "      <td>19.6</td>\n",
       "      <td>NaN</td>\n",
       "      <td>0</td>\n",
       "    </tr>\n",
       "    <tr>\n",
       "      <th>2112</th>\n",
       "      <td>YMD</td>\n",
       "      <td>South Yemen</td>\n",
       "      <td>1988</td>\n",
       "      <td>5</td>\n",
       "      <td>23.6</td>\n",
       "      <td>NaN</td>\n",
       "      <td>0</td>\n",
       "    </tr>\n",
       "    <tr>\n",
       "      <th>2120</th>\n",
       "      <td>ZAM</td>\n",
       "      <td>Zambia</td>\n",
       "      <td>1964</td>\n",
       "      <td>15</td>\n",
       "      <td>21.7</td>\n",
       "      <td>NaN</td>\n",
       "      <td>0</td>\n",
       "    </tr>\n",
       "  </tbody>\n",
       "</table>\n",
       "<p>130 rows × 7 columns</p>\n",
       "</div>"
      ],
      "text/plain": [
       "     team                           country  year  athletes   age  \\\n",
       "19    ALB                           Albania  1992         9  25.3   \n",
       "26    ALG                           Algeria  1964         7  26.0   \n",
       "39    AND                           Andorra  1976         3  28.3   \n",
       "50    ANG                            Angola  1980        17  17.4   \n",
       "59    ANT               Antigua and Barbuda  1976        17  23.2   \n",
       "...   ...                               ...   ...       ...   ...   \n",
       "2092  VIN  Saint Vincent and the Grenadines  1988         6  20.5   \n",
       "2103  YAR                       North Yemen  1984         3  27.7   \n",
       "2105  YEM                             Yemen  1992         8  19.6   \n",
       "2112  YMD                       South Yemen  1988         5  23.6   \n",
       "2120  ZAM                            Zambia  1964        15  21.7   \n",
       "\n",
       "      prev_medals  medals  \n",
       "19            NaN       0  \n",
       "26            NaN       0  \n",
       "39            NaN       0  \n",
       "50            NaN       0  \n",
       "59            NaN       0  \n",
       "...           ...     ...  \n",
       "2092          NaN       0  \n",
       "2103          NaN       0  \n",
       "2105          NaN       0  \n",
       "2112          NaN       0  \n",
       "2120          NaN       0  \n",
       "\n",
       "[130 rows x 7 columns]"
      ]
     },
     "execution_count": 109,
     "metadata": {},
     "output_type": "execute_result"
    }
   ],
   "source": [
    "teams[teams.isnull().any(axis=1)]"
   ]
  },
  {
   "cell_type": "code",
   "execution_count": 110,
   "metadata": {},
   "outputs": [],
   "source": [
    "teams = teams.dropna()"
   ]
  },
  {
   "cell_type": "code",
   "execution_count": 111,
   "metadata": {},
   "outputs": [
    {
     "data": {
      "text/plain": [
       "team           False\n",
       "country        False\n",
       "year           False\n",
       "athletes       False\n",
       "age            False\n",
       "prev_medals    False\n",
       "medals         False\n",
       "dtype: bool"
      ]
     },
     "execution_count": 111,
     "metadata": {},
     "output_type": "execute_result"
    }
   ],
   "source": [
    "teams.isnull().any()"
   ]
  },
  {
   "cell_type": "code",
   "execution_count": 112,
   "metadata": {},
   "outputs": [
    {
     "name": "stdout",
     "output_type": "stream",
     "text": [
      "Number of rows in train: 1609\n",
      "Number of rows in test: 405\n"
     ]
    }
   ],
   "source": [
    "train = teams[teams['year'] < 2012].copy() \n",
    "test = teams[teams['year'] >= 2012].copy() \n",
    "print('Number of rows in train: {}'.format(train.shape[0]))\n",
    "print('Number of rows in test: {}'.format(test.shape[0]))"
   ]
  },
  {
   "attachments": {},
   "cell_type": "markdown",
   "metadata": {},
   "source": [
    "### 予測モデル構築"
   ]
  },
  {
   "cell_type": "code",
   "execution_count": 113,
   "metadata": {},
   "outputs": [],
   "source": [
    "reg = LinearRegression()\n",
    "predictors = ['athletes', 'prev_medals']\n",
    "target = 'medals'\n",
    "reg.fit(train[predictors], train['medals'])"
   ]
  },
  {
   "cell_type": "code",
   "execution_count": 115,
   "metadata": {},
   "outputs": [],
   "source": [
    "predictions = reg.predict(test[predictors])"
   ]
  },
  {
   "cell_type": "code",
   "execution_count": 116,
   "metadata": {},
   "outputs": [
    {
     "data": {
      "text/plain": [
       "array([-9.61221245e-01, -1.17633261e+00, -1.42503158e+00, -1.71184673e+00,\n",
       "        2.15562926e+00,  3.91463636e+00, -1.71184673e+00, -1.85525431e+00,\n",
       "        3.67563128e-01, -2.77770967e-01, -1.85525431e+00, -1.49673537e+00,\n",
       "        4.67519911e+01,  2.87550937e+01,  4.58450091e+00,  2.54773581e+00,\n",
       "       -1.85525431e+00, -1.64014295e+00, -1.85525431e+00, -1.85525431e+00,\n",
       "        1.46556876e+02,  1.20571799e+02,  6.56314795e+00,  3.95275254e+00,\n",
       "        7.34283247e+00,  1.03117468e+01,  5.19171882e+00,  3.58517645e+00,\n",
       "       -1.64014295e+00, -1.64014295e+00, -1.56843916e+00, -1.20992022e+00,\n",
       "       -1.71184673e+00, -1.42503158e+00,  1.17929959e+01,  1.00049298e+01,\n",
       "       -1.78355052e+00, -1.71184673e+00, -1.56843916e+00, -1.56843916e+00,\n",
       "       -1.99866189e+00, -1.99866189e+00, -1.56843916e+00, -1.35332779e+00,\n",
       "       -1.92695810e+00, -1.92695810e+00,  3.28912706e+01,  2.53042547e+01,\n",
       "       -1.78355052e+00, -1.28162400e+00, -1.85525431e+00, -3.87590939e-01,\n",
       "        7.83480779e+01,  8.39481430e+01, -1.13821643e+00,  9.74781040e-01,\n",
       "       -1.92695810e+00, -1.92695810e+00,  6.98884211e+00,  3.51800124e+00,\n",
       "       -1.78355052e+00, -1.78355052e+00, -1.71184673e+00, -1.71184673e+00,\n",
       "       -1.71184673e+00, -1.71184673e+00,  4.95129637e+01,  6.81823667e+01,\n",
       "       -1.64014295e+00, -1.78355052e+00, -1.64014295e+00, -1.42503158e+00,\n",
       "       -1.99866189e+00, -1.99866189e+00,  1.76352271e+00,  1.22800859e+00,\n",
       "        1.70319135e+02,  1.27466307e+02, -1.42503158e+00, -1.06651264e+00,\n",
       "        9.03077251e-01, -5.64586121e-01, -1.85525431e+00, -1.85525431e+00,\n",
       "       -1.49673537e+00, -1.49673537e+00,  7.96363611e+00,  1.51204292e+01,\n",
       "       -1.92695810e+00, -1.85525431e+00, -1.92695810e+00, -1.78355052e+00,\n",
       "       -1.35332779e+00, -1.28162400e+00,  1.00721050e+01,  3.07982750e+01,\n",
       "        4.15983755e+01,  1.86203291e+01, -1.20992022e+00,  1.14335580e-01,\n",
       "        1.45132113e+01,  1.80466988e+01,  2.28036793e+01,  2.01215801e+01,\n",
       "       -1.85525431e+00, -1.56843916e+00, -1.99866189e+00, -1.99866189e+00,\n",
       "        1.94051789e+00,  1.51029516e+00,  1.18989240e+00,  7.26082069e-01,\n",
       "        8.07345608e+00,  9.18260052e+00, -1.28162400e+00, -1.28162400e+00,\n",
       "       -1.35332779e+00, -1.42503158e+00,  7.47092990e+01,  7.11758115e+01,\n",
       "        2.69114338e+00,  2.87266714e+00,  5.55023776e+00,  5.83705291e+00,\n",
       "       -1.49673537e+00,  1.65823132e+00,  6.55861938e+00,  6.41521180e+00,\n",
       "        8.62019070e+01,  9.61215602e+01, -1.71184673e+00, -1.78355052e+00,\n",
       "       -6.36289909e-01, -9.61221245e-01, -1.99866189e+00,  1.07703986e+02,\n",
       "        1.26711153e+02, -1.85525431e+00, -1.78355052e+00,  4.94301985e+00,\n",
       "        6.33897943e+00, -1.99866189e+00, -2.07036568e+00,  1.08738786e+02,\n",
       "        1.06849957e+02, -1.64014295e+00, -1.06651264e+00,  1.13582446e+01,\n",
       "        7.56700099e+00, -1.56843916e+00, -9.61221245e-01, -4.21178544e-01,\n",
       "        4.01150733e-01, -1.85525431e+00, -1.78355052e+00, -1.56843916e+00,\n",
       "       -1.78355052e+00, -1.71184673e+00, -1.64014295e+00, -1.78355052e+00,\n",
       "       -1.42503158e+00,  1.80163889e+00,  1.97863408e+00, -3.49474756e-01,\n",
       "       -4.92882332e-01,  3.25372802e+01,  3.20017661e+01,  4.68979230e+00,\n",
       "        1.58199895e+00,  6.92166689e+00,  1.16831760e+01, -1.85525431e+00,\n",
       "       -1.49673537e+00,  3.44629745e+00,  1.16695902e+01,  5.55929492e+00,\n",
       "        8.27951030e+00, -1.56843916e+00, -7.07993697e-01,  1.09480238e+01,\n",
       "       -1.13821643e+00,  2.62396817e+00,  2.08845405e+00, -1.49673537e+00,\n",
       "       -1.64014295e+00,  5.67750482e+01,  7.75102753e+01, -1.99866189e+00,\n",
       "       -1.85525431e+00,  1.28123223e+01,  2.21447595e+01, -1.49673537e+00,\n",
       "       -1.56843916e+00,  6.47496420e+01,  9.21733233e+01,  1.70809620e+01,\n",
       "        1.64356279e+01,  1.27742061e+01,  1.18511140e+01,  4.34738339e-01,\n",
       "       -7.79697486e-01, -1.92695810e+00, -1.92695810e+00,  7.87783006e+01,\n",
       "        6.25041817e+01, -4.92882332e-01,  1.64917416e+00, -1.28162400e+00,\n",
       "       -1.92695810e+00, -1.78355052e+00,  3.69499642e+00,  2.47603202e+00,\n",
       "       -1.85525431e+00, -1.64014295e+00, -1.92695810e+00, -1.85525431e+00,\n",
       "       -1.78355052e+00, -1.85525431e+00, -1.49673537e+00, -1.42503158e+00,\n",
       "       -1.49673537e+00, -1.85525431e+00, -1.92695810e+00,  6.77373074e+00,\n",
       "        7.34736105e+00, -1.35332779e+00, -1.06651264e+00, -1.64014295e+00,\n",
       "       -1.71184673e+00,  4.16333533e+00,  2.33715302e+00,  1.33329998e+00,\n",
       "        2.37074062e+00, -1.92695810e+00, -1.78355052e+00,  4.26317914e-02,\n",
       "        1.00836865e+00, -1.78355052e+00, -1.85525431e+00,  9.39318330e+00,\n",
       "        2.58397688e+01,  3.15495372e+00,  4.90943224e+00, -1.85525431e+00,\n",
       "       -1.78355052e+00, -1.85525431e+00, -1.71184673e+00, -1.71184673e+00,\n",
       "       -1.71184673e+00, -1.78355052e+00, -1.56843916e+00,  2.95859339e-01,\n",
       "        1.08763200e+01, -1.71184673e+00, -1.56843916e+00, -1.71184673e+00,\n",
       "       -1.56843916e+00, -6.02702304e-01, -1.35332779e+00, -1.99866189e+00,\n",
       "       -1.99866189e+00, -1.71184673e+00, -1.56843916e+00, -1.49673537e+00,\n",
       "       -1.35332779e+00, -1.71184673e+00, -1.78355052e+00,  5.95643264e+01,\n",
       "        7.32416356e+01, -1.78355052e+00, -1.64014295e+00,  1.92811365e+01,\n",
       "        3.37912224e+00, -1.71184673e+00, -1.71184673e+00,  1.93192527e+01,\n",
       "        1.61397555e+01, -1.99866189e+00, -1.99866189e+00,  2.37448857e+01,\n",
       "        3.47600976e+01, -1.92695810e+00, -1.85525431e+00, -6.36289909e-01,\n",
       "       -1.64014295e+00, -8.17813669e-01, -1.13821643e+00, -1.42503158e+00,\n",
       "       -1.35332779e+00, -9.94808851e-01,  2.95859339e-01, -1.35332779e+00,\n",
       "       -1.20992022e+00, -1.78355052e+00, -1.71184673e+00, -1.78355052e+00,\n",
       "       -1.71184673e+00, -1.56843916e+00, -1.56843916e+00,  3.12266101e+01,\n",
       "        2.75878312e+01,  6.38615277e+00,  6.95978308e+00,  6.44879940e+00,\n",
       "        5.08642743e+00, -1.34363391e-01,  2.29903684e+00, -1.13821643e+00,\n",
       "        2.37074062e+00,  2.54857785e+01,  1.85440967e+01,  9.00560533e+00,\n",
       "        1.57276471e+01,  1.43812130e+02,  1.32057237e+02, -1.64014295e+00,\n",
       "       -1.64014295e+00, -1.49673537e+00, -1.49673537e+00,  1.52451763e-01,\n",
       "       -5.64586121e-01, -1.71184673e+00, -1.42503158e+00,  2.69114338e+00,\n",
       "        3.15495372e+00, -1.64014295e+00, -1.49673537e+00, -1.99866189e+00,\n",
       "       -1.85525431e+00,  7.20395347e+00,  6.63032316e+00, -1.85525431e+00,\n",
       "       -1.85525431e+00, -1.85525431e+00, -1.92695810e+00,  1.87256205e+01,\n",
       "        1.89743195e+01, -1.56843916e+00, -1.42503158e+00, -1.99866189e+00,\n",
       "       -1.92695810e+00, -9.61221245e-01, -1.71184673e+00,  1.51494882e+01,\n",
       "        1.17594083e+01, -1.78355052e+00, -1.71184673e+00,  1.00249317e+01,\n",
       "        6.12839665e+00,  1.51585454e+01,  2.77085959e+01, -1.92695810e+00,\n",
       "       -1.99866189e+00, -1.42503158e+00, -1.64014295e+00, -1.71184673e+00,\n",
       "       -1.64014295e+00, -1.92695810e+00, -1.64014295e+00,  3.94369539e+00,\n",
       "        4.26862673e+00,  5.06442127e-01, -8.89517457e-01, -1.42503158e+00,\n",
       "       -1.49673537e+00, -1.99866189e+00, -1.92695810e+00, -9.61221245e-01,\n",
       "       -1.78355052e+00,  4.80414085e+00,  4.16333533e+00,  5.08642743e+00,\n",
       "        8.44744832e+00,  4.84678561e+00,  4.77055324e+00,  1.16450598e+01,\n",
       "        1.01438088e+01, -1.92695810e+00, -2.07036568e+00, -2.77770967e-01,\n",
       "       -1.28162400e+00, -9.94808851e-01,  2.57743156e-01,  4.29252723e+01,\n",
       "        3.68776237e+01, -2.06067179e-01, -9.23105062e-01,  2.85210121e+02,\n",
       "        2.35568076e+02,  6.37709562e+00,  5.84611007e+00, -1.78355052e+00,\n",
       "       -1.85525431e+00,  4.70337803e+00,  6.13745380e+00,  3.29446945e-01,\n",
       "       -1.34363391e-01, -1.92695810e+00, -1.85525431e+00, -1.85525431e+00,\n",
       "       -1.92695810e+00, -1.64014295e+00, -1.64014295e+00,  1.50576659e+00,\n",
       "        8.07479743e-02])"
      ]
     },
     "execution_count": 116,
     "metadata": {},
     "output_type": "execute_result"
    }
   ],
   "source": [
    "predictions"
   ]
  },
  {
   "cell_type": "code",
   "execution_count": 117,
   "metadata": {},
   "outputs": [
    {
     "data": {
      "text/html": [
       "<div>\n",
       "<style scoped>\n",
       "    .dataframe tbody tr th:only-of-type {\n",
       "        vertical-align: middle;\n",
       "    }\n",
       "\n",
       "    .dataframe tbody tr th {\n",
       "        vertical-align: top;\n",
       "    }\n",
       "\n",
       "    .dataframe thead th {\n",
       "        text-align: right;\n",
       "    }\n",
       "</style>\n",
       "<table border=\"1\" class=\"dataframe\">\n",
       "  <thead>\n",
       "    <tr style=\"text-align: right;\">\n",
       "      <th></th>\n",
       "      <th>team</th>\n",
       "      <th>country</th>\n",
       "      <th>year</th>\n",
       "      <th>athletes</th>\n",
       "      <th>age</th>\n",
       "      <th>prev_medals</th>\n",
       "      <th>medals</th>\n",
       "      <th>predictions</th>\n",
       "    </tr>\n",
       "  </thead>\n",
       "  <tbody>\n",
       "    <tr>\n",
       "      <th>6</th>\n",
       "      <td>AFG</td>\n",
       "      <td>Afghanistan</td>\n",
       "      <td>2012</td>\n",
       "      <td>6</td>\n",
       "      <td>24.8</td>\n",
       "      <td>1.0</td>\n",
       "      <td>1</td>\n",
       "      <td>-0.961221</td>\n",
       "    </tr>\n",
       "    <tr>\n",
       "      <th>7</th>\n",
       "      <td>AFG</td>\n",
       "      <td>Afghanistan</td>\n",
       "      <td>2016</td>\n",
       "      <td>3</td>\n",
       "      <td>24.7</td>\n",
       "      <td>1.0</td>\n",
       "      <td>0</td>\n",
       "      <td>-1.176333</td>\n",
       "    </tr>\n",
       "    <tr>\n",
       "      <th>24</th>\n",
       "      <td>ALB</td>\n",
       "      <td>Albania</td>\n",
       "      <td>2012</td>\n",
       "      <td>10</td>\n",
       "      <td>25.7</td>\n",
       "      <td>0.0</td>\n",
       "      <td>0</td>\n",
       "      <td>-1.425032</td>\n",
       "    </tr>\n",
       "    <tr>\n",
       "      <th>25</th>\n",
       "      <td>ALB</td>\n",
       "      <td>Albania</td>\n",
       "      <td>2016</td>\n",
       "      <td>6</td>\n",
       "      <td>23.7</td>\n",
       "      <td>0.0</td>\n",
       "      <td>0</td>\n",
       "      <td>-1.711847</td>\n",
       "    </tr>\n",
       "    <tr>\n",
       "      <th>37</th>\n",
       "      <td>ALG</td>\n",
       "      <td>Algeria</td>\n",
       "      <td>2012</td>\n",
       "      <td>39</td>\n",
       "      <td>24.8</td>\n",
       "      <td>2.0</td>\n",
       "      <td>1</td>\n",
       "      <td>2.155629</td>\n",
       "    </tr>\n",
       "    <tr>\n",
       "      <th>...</th>\n",
       "      <td>...</td>\n",
       "      <td>...</td>\n",
       "      <td>...</td>\n",
       "      <td>...</td>\n",
       "      <td>...</td>\n",
       "      <td>...</td>\n",
       "      <td>...</td>\n",
       "      <td>...</td>\n",
       "    </tr>\n",
       "    <tr>\n",
       "      <th>2111</th>\n",
       "      <td>YEM</td>\n",
       "      <td>Yemen</td>\n",
       "      <td>2016</td>\n",
       "      <td>3</td>\n",
       "      <td>19.3</td>\n",
       "      <td>0.0</td>\n",
       "      <td>0</td>\n",
       "      <td>-1.926958</td>\n",
       "    </tr>\n",
       "    <tr>\n",
       "      <th>2131</th>\n",
       "      <td>ZAM</td>\n",
       "      <td>Zambia</td>\n",
       "      <td>2012</td>\n",
       "      <td>7</td>\n",
       "      <td>22.6</td>\n",
       "      <td>0.0</td>\n",
       "      <td>0</td>\n",
       "      <td>-1.640143</td>\n",
       "    </tr>\n",
       "    <tr>\n",
       "      <th>2132</th>\n",
       "      <td>ZAM</td>\n",
       "      <td>Zambia</td>\n",
       "      <td>2016</td>\n",
       "      <td>7</td>\n",
       "      <td>24.1</td>\n",
       "      <td>0.0</td>\n",
       "      <td>0</td>\n",
       "      <td>-1.640143</td>\n",
       "    </tr>\n",
       "    <tr>\n",
       "      <th>2142</th>\n",
       "      <td>ZIM</td>\n",
       "      <td>Zimbabwe</td>\n",
       "      <td>2012</td>\n",
       "      <td>9</td>\n",
       "      <td>27.3</td>\n",
       "      <td>4.0</td>\n",
       "      <td>0</td>\n",
       "      <td>1.505767</td>\n",
       "    </tr>\n",
       "    <tr>\n",
       "      <th>2143</th>\n",
       "      <td>ZIM</td>\n",
       "      <td>Zimbabwe</td>\n",
       "      <td>2016</td>\n",
       "      <td>31</td>\n",
       "      <td>27.5</td>\n",
       "      <td>0.0</td>\n",
       "      <td>0</td>\n",
       "      <td>0.080748</td>\n",
       "    </tr>\n",
       "  </tbody>\n",
       "</table>\n",
       "<p>405 rows × 8 columns</p>\n",
       "</div>"
      ],
      "text/plain": [
       "     team      country  year  athletes   age  prev_medals  medals  predictions\n",
       "6     AFG  Afghanistan  2012         6  24.8          1.0       1    -0.961221\n",
       "7     AFG  Afghanistan  2016         3  24.7          1.0       0    -1.176333\n",
       "24    ALB      Albania  2012        10  25.7          0.0       0    -1.425032\n",
       "25    ALB      Albania  2016         6  23.7          0.0       0    -1.711847\n",
       "37    ALG      Algeria  2012        39  24.8          2.0       1     2.155629\n",
       "...   ...          ...   ...       ...   ...          ...     ...          ...\n",
       "2111  YEM        Yemen  2016         3  19.3          0.0       0    -1.926958\n",
       "2131  ZAM       Zambia  2012         7  22.6          0.0       0    -1.640143\n",
       "2132  ZAM       Zambia  2016         7  24.1          0.0       0    -1.640143\n",
       "2142  ZIM     Zimbabwe  2012         9  27.3          4.0       0     1.505767\n",
       "2143  ZIM     Zimbabwe  2016        31  27.5          0.0       0     0.080748\n",
       "\n",
       "[405 rows x 8 columns]"
      ]
     },
     "execution_count": 117,
     "metadata": {},
     "output_type": "execute_result"
    }
   ],
   "source": [
    "test['predictions'] = predictions\n",
    "test"
   ]
  },
  {
   "cell_type": "code",
   "execution_count": 118,
   "metadata": {},
   "outputs": [
    {
     "data": {
      "text/html": [
       "<div>\n",
       "<style scoped>\n",
       "    .dataframe tbody tr th:only-of-type {\n",
       "        vertical-align: middle;\n",
       "    }\n",
       "\n",
       "    .dataframe tbody tr th {\n",
       "        vertical-align: top;\n",
       "    }\n",
       "\n",
       "    .dataframe thead th {\n",
       "        text-align: right;\n",
       "    }\n",
       "</style>\n",
       "<table border=\"1\" class=\"dataframe\">\n",
       "  <thead>\n",
       "    <tr style=\"text-align: right;\">\n",
       "      <th></th>\n",
       "      <th>team</th>\n",
       "      <th>country</th>\n",
       "      <th>year</th>\n",
       "      <th>athletes</th>\n",
       "      <th>age</th>\n",
       "      <th>prev_medals</th>\n",
       "      <th>medals</th>\n",
       "      <th>predictions</th>\n",
       "    </tr>\n",
       "  </thead>\n",
       "  <tbody>\n",
       "    <tr>\n",
       "      <th>6</th>\n",
       "      <td>AFG</td>\n",
       "      <td>Afghanistan</td>\n",
       "      <td>2012</td>\n",
       "      <td>6</td>\n",
       "      <td>24.8</td>\n",
       "      <td>1.0</td>\n",
       "      <td>1</td>\n",
       "      <td>0.0</td>\n",
       "    </tr>\n",
       "    <tr>\n",
       "      <th>7</th>\n",
       "      <td>AFG</td>\n",
       "      <td>Afghanistan</td>\n",
       "      <td>2016</td>\n",
       "      <td>3</td>\n",
       "      <td>24.7</td>\n",
       "      <td>1.0</td>\n",
       "      <td>0</td>\n",
       "      <td>0.0</td>\n",
       "    </tr>\n",
       "    <tr>\n",
       "      <th>24</th>\n",
       "      <td>ALB</td>\n",
       "      <td>Albania</td>\n",
       "      <td>2012</td>\n",
       "      <td>10</td>\n",
       "      <td>25.7</td>\n",
       "      <td>0.0</td>\n",
       "      <td>0</td>\n",
       "      <td>0.0</td>\n",
       "    </tr>\n",
       "    <tr>\n",
       "      <th>25</th>\n",
       "      <td>ALB</td>\n",
       "      <td>Albania</td>\n",
       "      <td>2016</td>\n",
       "      <td>6</td>\n",
       "      <td>23.7</td>\n",
       "      <td>0.0</td>\n",
       "      <td>0</td>\n",
       "      <td>0.0</td>\n",
       "    </tr>\n",
       "    <tr>\n",
       "      <th>37</th>\n",
       "      <td>ALG</td>\n",
       "      <td>Algeria</td>\n",
       "      <td>2012</td>\n",
       "      <td>39</td>\n",
       "      <td>24.8</td>\n",
       "      <td>2.0</td>\n",
       "      <td>1</td>\n",
       "      <td>2.0</td>\n",
       "    </tr>\n",
       "    <tr>\n",
       "      <th>...</th>\n",
       "      <td>...</td>\n",
       "      <td>...</td>\n",
       "      <td>...</td>\n",
       "      <td>...</td>\n",
       "      <td>...</td>\n",
       "      <td>...</td>\n",
       "      <td>...</td>\n",
       "      <td>...</td>\n",
       "    </tr>\n",
       "    <tr>\n",
       "      <th>2111</th>\n",
       "      <td>YEM</td>\n",
       "      <td>Yemen</td>\n",
       "      <td>2016</td>\n",
       "      <td>3</td>\n",
       "      <td>19.3</td>\n",
       "      <td>0.0</td>\n",
       "      <td>0</td>\n",
       "      <td>0.0</td>\n",
       "    </tr>\n",
       "    <tr>\n",
       "      <th>2131</th>\n",
       "      <td>ZAM</td>\n",
       "      <td>Zambia</td>\n",
       "      <td>2012</td>\n",
       "      <td>7</td>\n",
       "      <td>22.6</td>\n",
       "      <td>0.0</td>\n",
       "      <td>0</td>\n",
       "      <td>0.0</td>\n",
       "    </tr>\n",
       "    <tr>\n",
       "      <th>2132</th>\n",
       "      <td>ZAM</td>\n",
       "      <td>Zambia</td>\n",
       "      <td>2016</td>\n",
       "      <td>7</td>\n",
       "      <td>24.1</td>\n",
       "      <td>0.0</td>\n",
       "      <td>0</td>\n",
       "      <td>0.0</td>\n",
       "    </tr>\n",
       "    <tr>\n",
       "      <th>2142</th>\n",
       "      <td>ZIM</td>\n",
       "      <td>Zimbabwe</td>\n",
       "      <td>2012</td>\n",
       "      <td>9</td>\n",
       "      <td>27.3</td>\n",
       "      <td>4.0</td>\n",
       "      <td>0</td>\n",
       "      <td>2.0</td>\n",
       "    </tr>\n",
       "    <tr>\n",
       "      <th>2143</th>\n",
       "      <td>ZIM</td>\n",
       "      <td>Zimbabwe</td>\n",
       "      <td>2016</td>\n",
       "      <td>31</td>\n",
       "      <td>27.5</td>\n",
       "      <td>0.0</td>\n",
       "      <td>0</td>\n",
       "      <td>0.0</td>\n",
       "    </tr>\n",
       "  </tbody>\n",
       "</table>\n",
       "<p>405 rows × 8 columns</p>\n",
       "</div>"
      ],
      "text/plain": [
       "     team      country  year  athletes   age  prev_medals  medals  predictions\n",
       "6     AFG  Afghanistan  2012         6  24.8          1.0       1          0.0\n",
       "7     AFG  Afghanistan  2016         3  24.7          1.0       0          0.0\n",
       "24    ALB      Albania  2012        10  25.7          0.0       0          0.0\n",
       "25    ALB      Albania  2016         6  23.7          0.0       0          0.0\n",
       "37    ALG      Algeria  2012        39  24.8          2.0       1          2.0\n",
       "...   ...          ...   ...       ...   ...          ...     ...          ...\n",
       "2111  YEM        Yemen  2016         3  19.3          0.0       0          0.0\n",
       "2131  ZAM       Zambia  2012         7  22.6          0.0       0          0.0\n",
       "2132  ZAM       Zambia  2016         7  24.1          0.0       0          0.0\n",
       "2142  ZIM     Zimbabwe  2012         9  27.3          4.0       0          2.0\n",
       "2143  ZIM     Zimbabwe  2016        31  27.5          0.0       0          0.0\n",
       "\n",
       "[405 rows x 8 columns]"
      ]
     },
     "execution_count": 118,
     "metadata": {},
     "output_type": "execute_result"
    }
   ],
   "source": [
    "test.loc[test['predictions'] < 0, 'predictions'] = 0\n",
    "test['predictions'] = test['predictions'].round()\n",
    "test"
   ]
  },
  {
   "cell_type": "code",
   "execution_count": 119,
   "metadata": {},
   "outputs": [
    {
     "data": {
      "text/plain": [
       "<AxesSubplot:xlabel='country'>"
      ]
     },
     "execution_count": 119,
     "metadata": {},
     "output_type": "execute_result"
    },
    {
     "data": {
      "image/png": "[encoded data removed]",
      "text/plain": [
       "<Figure size 432x288 with 1 Axes>"
      ]
     },
     "metadata": {
      "needs_background": "light"
     },
     "output_type": "display_data"
    }
   ],
   "source": [
    "average_by_country = test.groupby(test['country'])[['medals', 'predictions']].mean()\n",
    "average_by_country[73:103].plot(kind='bar')"
   ]
  },
  {
   "cell_type": "code",
   "execution_count": 120,
   "metadata": {},
   "outputs": [
    {
     "data": {
      "text/html": [
       "<div>\n",
       "<style scoped>\n",
       "    .dataframe tbody tr th:only-of-type {\n",
       "        vertical-align: middle;\n",
       "    }\n",
       "\n",
       "    .dataframe tbody tr th {\n",
       "        vertical-align: top;\n",
       "    }\n",
       "\n",
       "    .dataframe thead th {\n",
       "        text-align: right;\n",
       "    }\n",
       "</style>\n",
       "<table border=\"1\" class=\"dataframe\">\n",
       "  <thead>\n",
       "    <tr style=\"text-align: right;\">\n",
       "      <th></th>\n",
       "      <th>team</th>\n",
       "      <th>country</th>\n",
       "      <th>year</th>\n",
       "      <th>athletes</th>\n",
       "      <th>age</th>\n",
       "      <th>prev_medals</th>\n",
       "      <th>medals</th>\n",
       "      <th>predictions</th>\n",
       "    </tr>\n",
       "  </thead>\n",
       "  <tbody>\n",
       "    <tr>\n",
       "      <th>1048</th>\n",
       "      <td>JPN</td>\n",
       "      <td>Japan</td>\n",
       "      <td>2012</td>\n",
       "      <td>399</td>\n",
       "      <td>25.1</td>\n",
       "      <td>51.0</td>\n",
       "      <td>84</td>\n",
       "      <td>65.0</td>\n",
       "    </tr>\n",
       "    <tr>\n",
       "      <th>1049</th>\n",
       "      <td>JPN</td>\n",
       "      <td>Japan</td>\n",
       "      <td>2016</td>\n",
       "      <td>436</td>\n",
       "      <td>25.4</td>\n",
       "      <td>84.0</td>\n",
       "      <td>64</td>\n",
       "      <td>92.0</td>\n",
       "    </tr>\n",
       "  </tbody>\n",
       "</table>\n",
       "</div>"
      ],
      "text/plain": [
       "     team country  year  athletes   age  prev_medals  medals  predictions\n",
       "1048  JPN   Japan  2012       399  25.1         51.0      84         65.0\n",
       "1049  JPN   Japan  2016       436  25.4         84.0      64         92.0"
      ]
     },
     "execution_count": 120,
     "metadata": {},
     "output_type": "execute_result"
    }
   ],
   "source": [
    "test[test['country'] == 'Japan']"
   ]
  },
  {
   "cell_type": "code",
   "execution_count": 121,
   "metadata": {},
   "outputs": [
    {
     "data": {
      "text/html": [
       "<div>\n",
       "<style scoped>\n",
       "    .dataframe tbody tr th:only-of-type {\n",
       "        vertical-align: middle;\n",
       "    }\n",
       "\n",
       "    .dataframe tbody tr th {\n",
       "        vertical-align: top;\n",
       "    }\n",
       "\n",
       "    .dataframe thead th {\n",
       "        text-align: right;\n",
       "    }\n",
       "</style>\n",
       "<table border=\"1\" class=\"dataframe\">\n",
       "  <thead>\n",
       "    <tr style=\"text-align: right;\">\n",
       "      <th></th>\n",
       "      <th>team</th>\n",
       "      <th>country</th>\n",
       "      <th>year</th>\n",
       "      <th>athletes</th>\n",
       "      <th>age</th>\n",
       "      <th>prev_medals</th>\n",
       "      <th>medals</th>\n",
       "      <th>predictions</th>\n",
       "    </tr>\n",
       "  </thead>\n",
       "  <tbody>\n",
       "    <tr>\n",
       "      <th>755</th>\n",
       "      <td>GER</td>\n",
       "      <td>Germany</td>\n",
       "      <td>2012</td>\n",
       "      <td>510</td>\n",
       "      <td>26.6</td>\n",
       "      <td>99.0</td>\n",
       "      <td>94</td>\n",
       "      <td>109.0</td>\n",
       "    </tr>\n",
       "    <tr>\n",
       "      <th>756</th>\n",
       "      <td>GER</td>\n",
       "      <td>Germany</td>\n",
       "      <td>2016</td>\n",
       "      <td>536</td>\n",
       "      <td>26.5</td>\n",
       "      <td>94.0</td>\n",
       "      <td>159</td>\n",
       "      <td>107.0</td>\n",
       "    </tr>\n",
       "  </tbody>\n",
       "</table>\n",
       "</div>"
      ],
      "text/plain": [
       "    team  country  year  athletes   age  prev_medals  medals  predictions\n",
       "755  GER  Germany  2012       510  26.6         99.0      94        109.0\n",
       "756  GER  Germany  2016       536  26.5         94.0     159        107.0"
      ]
     },
     "execution_count": 121,
     "metadata": {},
     "output_type": "execute_result"
    }
   ],
   "source": [
    "test[test['country'] == 'Germany']\n"
   ]
  },
  {
   "cell_type": "code",
   "execution_count": 122,
   "metadata": {},
   "outputs": [
    {
     "data": {
      "text/html": [
       "<div>\n",
       "<style scoped>\n",
       "    .dataframe tbody tr th:only-of-type {\n",
       "        vertical-align: middle;\n",
       "    }\n",
       "\n",
       "    .dataframe tbody tr th {\n",
       "        vertical-align: top;\n",
       "    }\n",
       "\n",
       "    .dataframe thead th {\n",
       "        text-align: right;\n",
       "    }\n",
       "</style>\n",
       "<table border=\"1\" class=\"dataframe\">\n",
       "  <thead>\n",
       "    <tr style=\"text-align: right;\">\n",
       "      <th></th>\n",
       "      <th>team</th>\n",
       "      <th>country</th>\n",
       "      <th>year</th>\n",
       "      <th>athletes</th>\n",
       "      <th>age</th>\n",
       "      <th>prev_medals</th>\n",
       "      <th>medals</th>\n",
       "      <th>predictions</th>\n",
       "    </tr>\n",
       "  </thead>\n",
       "  <tbody>\n",
       "    <tr>\n",
       "      <th>907</th>\n",
       "      <td>IND</td>\n",
       "      <td>India</td>\n",
       "      <td>2012</td>\n",
       "      <td>95</td>\n",
       "      <td>26.0</td>\n",
       "      <td>3.0</td>\n",
       "      <td>6</td>\n",
       "      <td>7.0</td>\n",
       "    </tr>\n",
       "    <tr>\n",
       "      <th>908</th>\n",
       "      <td>IND</td>\n",
       "      <td>India</td>\n",
       "      <td>2016</td>\n",
       "      <td>130</td>\n",
       "      <td>26.1</td>\n",
       "      <td>6.0</td>\n",
       "      <td>2</td>\n",
       "      <td>12.0</td>\n",
       "    </tr>\n",
       "  </tbody>\n",
       "</table>\n",
       "</div>"
      ],
      "text/plain": [
       "    team country  year  athletes   age  prev_medals  medals  predictions\n",
       "907  IND   India  2012        95  26.0          3.0       6          7.0\n",
       "908  IND   India  2016       130  26.1          6.0       2         12.0"
      ]
     },
     "execution_count": 122,
     "metadata": {},
     "output_type": "execute_result"
    }
   ],
   "source": [
    "test[test['country'] == 'India']\n"
   ]
  },
  {
   "cell_type": "code",
   "execution_count": 123,
   "metadata": {},
   "outputs": [
    {
     "data": {
      "text/plain": [
       "country\n",
       "Afghanistan       0.5\n",
       "Albania           0.0\n",
       "Algeria           1.5\n",
       "American Samoa    0.0\n",
       "Andorra           0.0\n",
       "                 ... \n",
       "Venezuela         3.5\n",
       "Vietnam           1.0\n",
       "Yemen             0.0\n",
       "Zambia            0.0\n",
       "Zimbabwe          1.0\n",
       "Length: 205, dtype: float64"
      ]
     },
     "execution_count": 123,
     "metadata": {},
     "output_type": "execute_result"
    }
   ],
   "source": [
    "errors = (test['medals'] - test['predictions']).abs()\n",
    "error_by_country = errors.groupby(test['country']).mean()\n",
    "error_by_country"
   ]
  },
  {
   "cell_type": "code",
   "execution_count": 124,
   "metadata": {},
   "outputs": [
    {
     "data": {
      "text/plain": [
       "3.290243902439024"
      ]
     },
     "execution_count": 124,
     "metadata": {},
     "output_type": "execute_result"
    }
   ],
   "source": [
    "error_by_country.mean()"
   ]
  }
 ],
 "metadata": {
  "kernelspec": {
   "display_name": "base",
   "language": "python",
   "name": "python3"
  },
  "language_info": {
   "codemirror_mode": {
    "name": "ipython",
    "version": 3
   },
   "file_extension": ".py",
   "mimetype": "text/x-python",
   "name": "python",
   "nbconvert_exporter": "python",
   "pygments_lexer": "ipython3",
   "version": "3.9.12"
  },
  "orig_nbformat": 4
 },
 "nbformat": 4,
 "nbformat_minor": 2
}
